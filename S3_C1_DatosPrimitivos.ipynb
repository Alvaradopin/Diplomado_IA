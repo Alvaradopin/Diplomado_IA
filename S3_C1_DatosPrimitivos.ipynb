{
  "nbformat": 4,
  "nbformat_minor": 0,
  "metadata": {
    "colab": {
      "provenance": [],
      "include_colab_link": true
    },
    "kernelspec": {
      "name": "python3",
      "display_name": "Python 3"
    },
    "language_info": {
      "name": "python"
    }
  },
  "cells": [
    {
      "cell_type": "markdown",
      "metadata": {
        "id": "view-in-github",
        "colab_type": "text"
      },
      "source": [
        "<a href=\"https://colab.research.google.com/github/Alvaradopin/Diplomado_IA/blob/main/S3_C1_DatosPrimitivos.ipynb\" target=\"_parent\"><img src=\"https://colab.research.google.com/assets/colab-badge.svg\" alt=\"Open In Colab\"/></a>"
      ]
    },
    {
      "cell_type": "code",
      "source": [
        "import this"
      ],
      "metadata": {
        "id": "INgY8eBcOcJE",
        "colab": {
          "base_uri": "https://localhost:8080/"
        },
        "outputId": "440a7a25-e250-4210-ab1b-e5304e417a56"
      },
      "execution_count": 1,
      "outputs": [
        {
          "output_type": "stream",
          "name": "stdout",
          "text": [
            "The Zen of Python, by Tim Peters\n",
            "\n",
            "Beautiful is better than ugly.\n",
            "Explicit is better than implicit.\n",
            "Simple is better than complex.\n",
            "Complex is better than complicated.\n",
            "Flat is better than nested.\n",
            "Sparse is better than dense.\n",
            "Readability counts.\n",
            "Special cases aren't special enough to break the rules.\n",
            "Although practicality beats purity.\n",
            "Errors should never pass silently.\n",
            "Unless explicitly silenced.\n",
            "In the face of ambiguity, refuse the temptation to guess.\n",
            "There should be one-- and preferably only one --obvious way to do it.\n",
            "Although that way may not be obvious at first unless you're Dutch.\n",
            "Now is better than never.\n",
            "Although never is often better than *right* now.\n",
            "If the implementation is hard to explain, it's a bad idea.\n",
            "If the implementation is easy to explain, it may be a good idea.\n",
            "Namespaces are one honking great idea -- let's do more of those!\n"
          ]
        }
      ]
    },
    {
      "cell_type": "markdown",
      "source": [
        "# Paso 1. Declaración de variables"
      ],
      "metadata": {
        "id": "3l6JJPOhPUHS"
      }
    },
    {
      "cell_type": "code",
      "execution_count": 18,
      "metadata": {
        "id": "qAf9dBUzN79j"
      },
      "outputs": [],
      "source": [
        "## ZEN 2.  Explicit is better than implicit.\n",
        "edad = 25            # Entero (int)\n",
        "altura = 1.75        # Flotante (float)\n",
        "nombre = \"Carlos\"    # Cadena de texto (string)\n",
        "es_estudiante = False # Booleano (bool)"
      ]
    },
    {
      "cell_type": "markdown",
      "source": [
        "# Paso 2. Leer el tipo de Variable"
      ],
      "metadata": {
        "id": "IZAVuwQqPf2j"
      }
    },
    {
      "cell_type": "code",
      "source": [
        "# Para leer el tipo de la variable\n",
        "type(edad)\n",
        "type(altura)\n",
        "type(nombre)\n",
        "type(es_estudiante)"
      ],
      "metadata": {
        "id": "dgw2Lk9KPPsN",
        "colab": {
          "base_uri": "https://localhost:8080/"
        },
        "outputId": "4db1f4eb-6177-4573-de01-ad5f859d1f9e"
      },
      "execution_count": 9,
      "outputs": [
        {
          "output_type": "execute_result",
          "data": {
            "text/plain": [
              "bool"
            ]
          },
          "metadata": {},
          "execution_count": 9
        }
      ]
    },
    {
      "cell_type": "code",
      "source": [
        "# Actividad 2. Imprima el tipo de las otras variables"
      ],
      "metadata": {
        "id": "1ULV9k1FPnhq"
      },
      "execution_count": null,
      "outputs": []
    },
    {
      "cell_type": "markdown",
      "source": [
        "# Paso 3. Convertir\n",
        "\n",
        "para convertir se usa el tipo deseado y la variable en el parentesis:\n",
        "\n",
        "* int(variable)\n",
        "* float(variable)\n",
        "* str(variable)\n",
        "\n",
        "## Errores cómunes\n",
        "\n",
        "*  int('a')\n",
        "## Actividad\n",
        "* Convierte la edad en un número flotante e imprímela.\n",
        "* Convierte la altura en un número entero e imprímela.\n",
        "* Convierte la edad en una cadena de texto e imprímela.\n",
        "* Convierte el valor booleano es_estudiante en un número entero y en una cadena de texto, mostrando los resultados."
      ],
      "metadata": {
        "id": "dZvDO0cNPxIy"
      }
    },
    {
      "cell_type": "code",
      "source": [
        "int('1')\n"
      ],
      "metadata": {
        "id": "wbThLYmLQ_Mi",
        "colab": {
          "base_uri": "https://localhost:8080/"
        },
        "outputId": "b851b227-f1bb-478f-8c28-f810a34c5a04"
      },
      "execution_count": 10,
      "outputs": [
        {
          "output_type": "execute_result",
          "data": {
            "text/plain": [
              "1"
            ]
          },
          "metadata": {},
          "execution_count": 10
        }
      ]
    },
    {
      "cell_type": "code",
      "source": [
        "int('a')"
      ],
      "metadata": {
        "id": "ha9AFOuEQ8Q5",
        "colab": {
          "base_uri": "https://localhost:8080/",
          "height": 141
        },
        "outputId": "210656f2-54e1-4099-c925-eb8cc6a9ac45"
      },
      "execution_count": 11,
      "outputs": [
        {
          "output_type": "error",
          "ename": "ValueError",
          "evalue": "invalid literal for int() with base 10: 'a'",
          "traceback": [
            "\u001b[0;31m---------------------------------------------------------------------------\u001b[0m",
            "\u001b[0;31mValueError\u001b[0m                                Traceback (most recent call last)",
            "\u001b[0;32m<ipython-input-11-233884bacd4e>\u001b[0m in \u001b[0;36m<cell line: 0>\u001b[0;34m()\u001b[0m\n\u001b[0;32m----> 1\u001b[0;31m \u001b[0mint\u001b[0m\u001b[0;34m(\u001b[0m\u001b[0;34m'a'\u001b[0m\u001b[0;34m)\u001b[0m\u001b[0;34m\u001b[0m\u001b[0;34m\u001b[0m\u001b[0m\n\u001b[0m",
            "\u001b[0;31mValueError\u001b[0m: invalid literal for int() with base 10: 'a'"
          ]
        }
      ]
    },
    {
      "cell_type": "code",
      "source": [
        "float(edad)"
      ],
      "metadata": {
        "colab": {
          "base_uri": "https://localhost:8080/"
        },
        "id": "WUR9ycn8d3Ci",
        "outputId": "c7cea5cb-f10d-4d2c-a705-ddd6e87a8e5e"
      },
      "execution_count": 12,
      "outputs": [
        {
          "output_type": "execute_result",
          "data": {
            "text/plain": [
              "25.0"
            ]
          },
          "metadata": {},
          "execution_count": 12
        }
      ]
    },
    {
      "cell_type": "code",
      "source": [
        "edad"
      ],
      "metadata": {
        "colab": {
          "base_uri": "https://localhost:8080/"
        },
        "id": "7Mkjh6PQeDzC",
        "outputId": "939a41ae-27fa-44e7-9d53-d55c8432b0a2"
      },
      "execution_count": 13,
      "outputs": [
        {
          "output_type": "execute_result",
          "data": {
            "text/plain": [
              "25"
            ]
          },
          "metadata": {},
          "execution_count": 13
        }
      ]
    },
    {
      "cell_type": "code",
      "source": [
        "int(altura)"
      ],
      "metadata": {
        "colab": {
          "base_uri": "https://localhost:8080/"
        },
        "id": "6fD6lfMbeKvE",
        "outputId": "b32ffc11-bf75-4650-e0eb-13e91b2235c4"
      },
      "execution_count": 14,
      "outputs": [
        {
          "output_type": "execute_result",
          "data": {
            "text/plain": [
              "1"
            ]
          },
          "metadata": {},
          "execution_count": 14
        }
      ]
    },
    {
      "cell_type": "code",
      "source": [
        "round(altura)"
      ],
      "metadata": {
        "colab": {
          "base_uri": "https://localhost:8080/"
        },
        "id": "3tNody0-efRb",
        "outputId": "c607f679-e648-4687-e5e0-b2929f1d31f9"
      },
      "execution_count": 15,
      "outputs": [
        {
          "output_type": "execute_result",
          "data": {
            "text/plain": [
              "2"
            ]
          },
          "metadata": {},
          "execution_count": 15
        }
      ]
    },
    {
      "cell_type": "code",
      "source": [
        "float(altura)"
      ],
      "metadata": {
        "colab": {
          "base_uri": "https://localhost:8080/"
        },
        "id": "IAN24UYYeqIR",
        "outputId": "2d58e6ed-46c2-4150-b066-ba29f8275daf"
      },
      "execution_count": 16,
      "outputs": [
        {
          "output_type": "execute_result",
          "data": {
            "text/plain": [
              "1.75"
            ]
          },
          "metadata": {},
          "execution_count": 16
        }
      ]
    },
    {
      "cell_type": "code",
      "source": [
        "int(es_estudiante)"
      ],
      "metadata": {
        "colab": {
          "base_uri": "https://localhost:8080/"
        },
        "id": "tNHkAJUfe1hD",
        "outputId": "ba401f7d-538b-46f8-8230-a26e00c67268"
      },
      "execution_count": 19,
      "outputs": [
        {
          "output_type": "execute_result",
          "data": {
            "text/plain": [
              "0"
            ]
          },
          "metadata": {},
          "execution_count": 19
        }
      ]
    },
    {
      "cell_type": "code",
      "source": [
        "estado=0"
      ],
      "metadata": {
        "id": "4TGY-HHUfYDW"
      },
      "execution_count": 20,
      "outputs": []
    },
    {
      "cell_type": "code",
      "source": [
        "bool(estado)"
      ],
      "metadata": {
        "colab": {
          "base_uri": "https://localhost:8080/"
        },
        "id": "22T1VXJBfety",
        "outputId": "5bd9cd1d-2f36-49c8-a667-77ae8f5d1d38"
      },
      "execution_count": 21,
      "outputs": [
        {
          "output_type": "execute_result",
          "data": {
            "text/plain": [
              "False"
            ]
          },
          "metadata": {},
          "execution_count": 21
        }
      ]
    }
  ]
}